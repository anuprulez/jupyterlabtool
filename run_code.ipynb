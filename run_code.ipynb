{
 "cells": [
  {
   "cell_type": "code",
   "execution_count": 31,
   "id": "2e62ceee-53a0-4be5-956d-c159a85c2352",
   "metadata": {},
   "outputs": [
    {
     "name": "stdout",
     "output_type": "stream",
     "text": [
      "Uploaded code\n",
      "Executed code\n"
     ]
    }
   ],
   "source": [
    "ret_dict = run_script_job(\"scikit-script.ipynb\", \"http://localhost:8080/\", '7491db238c6bedf1bfadd68507c1802d', \"SK_model\")"
   ]
  },
  {
   "cell_type": "code",
   "execution_count": 32,
   "id": "eee8b501-e9ac-4da6-8a7e-a3141ff0fe68",
   "metadata": {},
   "outputs": [
    {
     "name": "stdout",
     "output_type": "stream",
     "text": [
      "Uploaded code\n",
      "Executed code\n"
     ]
    }
   ],
   "source": [
    "tf_ret_dict = run_script_job(\"tf-script.ipynb\", \"http://localhost:8080/\", '7491db238c6bedf1bfadd68507c1802d', \"TF_model\")"
   ]
  }
 ],
 "metadata": {
  "kernelspec": {
   "display_name": "Python 3",
   "language": "python",
   "name": "python3"
  },
  "language_info": {
   "codemirror_mode": {
    "name": "ipython",
    "version": 3
   },
   "file_extension": ".py",
   "mimetype": "text/x-python",
   "name": "python",
   "nbconvert_exporter": "python",
   "pygments_lexer": "ipython3",
   "version": "3.8.8"
  }
 },
 "nbformat": 4,
 "nbformat_minor": 5
}
