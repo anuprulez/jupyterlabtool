{
 "cells": [
  {
   "cell_type": "code",
   "execution_count": 120,
   "id": "1d678429-e9c7-4b71-94b8-73f33b3e699e",
   "metadata": {},
   "outputs": [],
   "source": [
    "import tensorflow as tf\n",
    "import numpy as np"
   ]
  },
  {
   "cell_type": "code",
   "execution_count": 121,
   "id": "5ec28346-ba68-4065-92f1-3095de88fbfb",
   "metadata": {},
   "outputs": [],
   "source": [
    "(mnist_images, mnist_labels), _ = tf.keras.datasets.mnist.load_data()\n",
    "mnist_images, mnist_labels = mnist_images[:1000], mnist_labels[:1000]\n",
    "dataset = tf.data.Dataset.from_tensor_slices((tf.cast(mnist_images[...,tf.newaxis]/255, tf.float32), tf.cast(mnist_labels,tf.int64)))\n",
    "dataset = dataset.shuffle(1000).batch(32)"
   ]
  },
  {
   "cell_type": "code",
   "execution_count": 122,
   "id": "90b28707-700f-4f8d-a20a-0e441525cb43",
   "metadata": {},
   "outputs": [],
   "source": [
    "import onnx\n",
    "from onnx_tf.backend import prepare\n",
    "loaded_model = onnx.load(\"onnx_model/tf_model.onnx\")\n",
    "tf_loaded_model = prepare(loaded_model)"
   ]
  },
  {
   "cell_type": "code",
   "execution_count": 123,
   "id": "0a820bbd-50cb-411b-9c59-de7280b28e8e",
   "metadata": {},
   "outputs": [],
   "source": [
    "total_test_accuracy = []\n",
    "total_test_loss = []\n",
    "\n",
    "test_loss = tf.keras.metrics.Mean(name='test_loss')\n",
    "test_accuracy = tf.keras.metrics.SparseCategoricalAccuracy(name='test_accuracy')\n",
    "loss_object = tf.keras.losses.SparseCategoricalCrossentropy(from_logits=True)\n",
    "\n",
    "def predict_test(images, labels):\n",
    "  # Reset the metrics at the start of the next epoch\n",
    "  test_loss.reset_states()\n",
    "  test_accuracy.reset_states()\n",
    "  true_labels = []\n",
    "  predicted_labels = []\n",
    "  for i, item in enumerate(images):\n",
    "      prediction = tf_loaded_model.run(item, training=False)\n",
    "      pred = np.array(prediction).squeeze()\n",
    "      true_labels.append([labels[i].numpy()])\n",
    "      predicted_labels.append(pred)\n",
    "  t_loss = loss_object(true_labels, predicted_labels)\n",
    "  return test_loss(t_loss), test_accuracy(labels, predicted_labels)"
   ]
  },
  {
   "cell_type": "code",
   "execution_count": 124,
   "id": "943973ff-55d4-41a0-ab4a-b6f6c16ec161",
   "metadata": {},
   "outputs": [
    {
     "name": "stdout",
     "output_type": "stream",
     "text": [
      "Mean test loss: 2.295968532562256\n"
     ]
    }
   ],
   "source": [
    "for test_images, test_labels in dataset:\n",
    "  ls, acc = predict_test(test_images, test_labels)\n",
    "  loss = test_loss.result()\n",
    "  accuracy = test_accuracy.result() * 100\n",
    "  total_test_accuracy.append(accuracy.numpy())\n",
    "  total_test_loss.append(loss.numpy())\n",
    "\n",
    "print(\"Mean test loss: {}\".format(np.mean(total_test_loss)))"
   ]
  },
  {
   "cell_type": "code",
   "execution_count": 125,
   "id": "77d48108-f8ad-41be-bf51-b1913b77516e",
   "metadata": {},
   "outputs": [
    {
     "ename": "NameError",
     "evalue": "name 'mnist_model' is not defined",
     "output_type": "error",
     "traceback": [
      "\u001b[0;31m---------------------------------------------------------------------------\u001b[0m",
      "\u001b[0;31mNameError\u001b[0m                                 Traceback (most recent call last)",
      "\u001b[0;32m/tmp/ipykernel_859/2212181880.py\u001b[0m in \u001b[0;36m<module>\u001b[0;34m\u001b[0m\n\u001b[1;32m      7\u001b[0m     \u001b[0mos\u001b[0m\u001b[0;34m.\u001b[0m\u001b[0mmakedirs\u001b[0m\u001b[0;34m(\u001b[0m\u001b[0;34m'onnx_local_model'\u001b[0m\u001b[0;34m)\u001b[0m\u001b[0;34m\u001b[0m\u001b[0;34m\u001b[0m\u001b[0m\n\u001b[1;32m      8\u001b[0m \u001b[0;34m\u001b[0m\u001b[0m\n\u001b[0;32m----> 9\u001b[0;31m \u001b[0mtf\u001b[0m\u001b[0;34m.\u001b[0m\u001b[0msaved_model\u001b[0m\u001b[0;34m.\u001b[0m\u001b[0msave\u001b[0m\u001b[0;34m(\u001b[0m\u001b[0mmnist_model\u001b[0m\u001b[0;34m,\u001b[0m \u001b[0;34m'tf_model'\u001b[0m\u001b[0;34m)\u001b[0m\u001b[0;34m\u001b[0m\u001b[0;34m\u001b[0m\u001b[0m\n\u001b[0m",
      "\u001b[0;31mNameError\u001b[0m: name 'mnist_model' is not defined"
     ]
    }
   ],
   "source": [
    "import tf2onnx\n",
    "\n",
    "if not os.path.exists('tf_model'):\n",
    "    os.makedirs('tf_model')\n",
    "\n",
    "if not os.path.exists('onnx_local_model'):\n",
    "    os.makedirs('onnx_local_model')\n",
    "\n",
    "tf.saved_model.save(mnist_model, 'tf_model')"
   ]
  },
  {
   "cell_type": "code",
   "execution_count": null,
   "id": "aa1cb97e-089b-4a13-99c1-4b50652ecb1c",
   "metadata": {},
   "outputs": [],
   "source": [
    "%%bash\n",
    "\n",
    "python -m tf2onnx.convert --saved-model tf_model --output onnx_local_model/mnist_model.onnx --opset 7"
   ]
  }
 ],
 "metadata": {
  "kernelspec": {
   "display_name": "Python 3 (ipykernel)",
   "language": "python",
   "name": "python3"
  },
  "language_info": {
   "codemirror_mode": {
    "name": "ipython",
    "version": 3
   },
   "file_extension": ".py",
   "mimetype": "text/x-python",
   "name": "python",
   "nbconvert_exporter": "python",
   "pygments_lexer": "ipython3",
   "version": "3.9.6"
  }
 },
 "nbformat": 4,
 "nbformat_minor": 5
}
