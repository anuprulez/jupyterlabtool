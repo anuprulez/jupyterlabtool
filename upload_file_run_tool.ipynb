{
 "cells": [
  {
   "cell_type": "code",
   "execution_count": 4,
   "id": "5986f665-eb27-4d1f-9c16-39ffdbfea63d",
   "metadata": {},
   "outputs": [
    {
     "name": "stdout",
     "output_type": "stream",
     "text": [
      "new\n"
     ]
    }
   ],
   "source": [
    "import os\n",
    "import random\n",
    "from time import sleep\n",
    "import bioblend\n",
    "from bioblend.galaxy import GalaxyInstance\n",
    "from bioblend.galaxy import histories\n",
    "#import galaxy_ie_helpers\n",
    "\n",
    "\n",
    "ipy_file_path = \"scikit-learn.ipynb\"\n",
    "\n",
    "def run_code(script_path, new_history_name=\"ml_analysis\", tool_name=\"run_jupyter_job\"):\n",
    "    \n",
    "    # to be used on usegalaxy.eu\n",
    "    # conn = galaxy_ie_helpers.get_galaxy_connection()\n",
    "    # gi = conn.gi\n",
    "    # new_history = gi.histories.create_history(new_history_name)\n",
    "    \n",
    "    # to be used locally\n",
    "    server = 'http://127.0.0.1:9090/'\n",
    "    key = '7a9d91ab284dae8207afceab171c76d4'\n",
    "    gi = GalaxyInstance(server, key=key)\n",
    "    history = histories.HistoryClient(gi)\n",
    "    new_history = history.create_history(new_history_name)\n",
    "    \n",
    "    # get script\n",
    "    from nbformat import read, NO_CONVERT\n",
    "    with open(ipy_file_path) as fp:\n",
    "        notebook = read(fp, NO_CONVERT)\n",
    "    cells = notebook['cells']\n",
    "    code_cells = [c for c in cells if c['cell_type'] == 'code']\n",
    "    notebook_script = \"\"\n",
    "    for cell in code_cells:\n",
    "        notebook_script += cell.source + \"\\n\\n\"\n",
    "    target_file_name = \"target-file.py\"\n",
    "    with open(target_file_name, \"w\") as f_obj:\n",
    "        f_obj.write(notebook_script)\n",
    "    # upload script\n",
    "    uploaded_dataset = gi.tools.upload_file(target_file_name, new_history[\"id\"])\n",
    "    sleep(20)\n",
    "    hist_id = new_history[\"id\"]\n",
    "    uploaded_file_path = uploaded_dataset[\"outputs\"][0][\"id\"]\n",
    "    tool_run = gi.tools.run_tool(hist_id, tool_name, {\"inputs\": {\"select_file\": uploaded_file_path}})\n",
    "    print(tool_run[\"jobs\"][0][\"state\"])\n",
    "    return tool_run\n",
    "\n",
    "tool_ret_obj = run_code(ipy_file_path, \"ml_analysis_abc\")"
   ]
  },
  {
   "cell_type": "code",
   "execution_count": 13,
   "id": "8fdd4813-9aff-4be3-86f1-a4efe83d74d4",
   "metadata": {},
   "outputs": [
    {
     "data": {
      "text/plain": [
       "{'implicit_collections': [],\n",
       " 'jobs': [{'create_time': '2021-09-16T08:17:00.397024',\n",
       "   'exit_code': None,\n",
       "   'galaxy_version': '21.09',\n",
       "   'history_id': '3e4e8de146a035f5',\n",
       "   'id': '244c246e3628fe4f',\n",
       "   'model_class': 'Job',\n",
       "   'state': 'new',\n",
       "   'tool_id': 'run_jupyter_job',\n",
       "   'update_time': '2021-09-16T08:17:00.435598'}],\n",
       " 'output_collections': [],\n",
       " 'outputs': [{'create_time': '2021-09-16T08:17:00.400152',\n",
       "   'data_type': 'abc.Binary',\n",
       "   'deleted': False,\n",
       "   'file_ext': 'onnx',\n",
       "   'file_size': 0,\n",
       "   'genome_build': '?',\n",
       "   'hda_ldda': 'hda',\n",
       "   'hid': 2,\n",
       "   'history_content_type': 'dataset',\n",
       "   'history_id': '3e4e8de146a035f5',\n",
       "   'id': '244c246e3628fe4f',\n",
       "   'metadata_dbkey': '?',\n",
       "   'misc_blurb': 'queued',\n",
       "   'misc_info': None,\n",
       "   'model_class': 'HistoryDatasetAssociation',\n",
       "   'name': 'Output file',\n",
       "   'output_name': 'outfile_output',\n",
       "   'peek': None,\n",
       "   'purged': False,\n",
       "   'state': 'new',\n",
       "   'tags': [],\n",
       "   'update_time': '2021-09-16T08:17:00.438325',\n",
       "   'uuid': '85b71823-d52a-45d4-9c11-6eb167a9f86e',\n",
       "   'validated_state': 'unknown',\n",
       "   'validated_state_message': None,\n",
       "   'visible': True}],\n",
       " 'produces_entry_points': False}"
      ]
     },
     "execution_count": 13,
     "metadata": {},
     "output_type": "execute_result"
    }
   ],
   "source": [
    "tool_ret_obj"
   ]
  },
  {
   "cell_type": "code",
   "execution_count": 15,
   "id": "7ba03914-f218-423e-adb6-9d98f579a003",
   "metadata": {},
   "outputs": [
    {
     "name": "stdout",
     "output_type": "stream",
     "text": [
      "new\n"
     ]
    }
   ],
   "source": [
    "print(tool_ret_obj[\"jobs\"][0][\"state\"])"
   ]
  },
  {
   "cell_type": "code",
   "execution_count": 4,
   "id": "9580a3ff-3d67-4165-8bf6-5e90ec5d89ce",
   "metadata": {},
   "outputs": [
    {
     "name": "stdout",
     "output_type": "stream",
     "text": [
      "Collecting galaxy_ie_helpers\n",
      "  Downloading galaxy-ie-helpers-0.2.5.tar.gz (5.9 kB)\n",
      "Requirement already satisfied: bioblend in /home/anupkumar/anaconda3/envs/jltool/lib/python3.9/site-packages (from galaxy_ie_helpers) (0.16.0)\n",
      "Requirement already satisfied: boto>=2.9.7 in /home/anupkumar/anaconda3/envs/jltool/lib/python3.9/site-packages (from bioblend->galaxy_ie_helpers) (2.49.0)\n",
      "Requirement already satisfied: requests>=2.20.0 in /home/anupkumar/anaconda3/envs/jltool/lib/python3.9/site-packages (from bioblend->galaxy_ie_helpers) (2.26.0)\n",
      "Requirement already satisfied: pyyaml in /home/anupkumar/anaconda3/envs/jltool/lib/python3.9/site-packages (from bioblend->galaxy_ie_helpers) (5.4.1)\n",
      "Requirement already satisfied: requests-toolbelt!=0.9.0,>=0.5.1 in /home/anupkumar/anaconda3/envs/jltool/lib/python3.9/site-packages (from bioblend->galaxy_ie_helpers) (0.9.1)\n",
      "Requirement already satisfied: certifi>=2017.4.17 in /home/anupkumar/anaconda3/envs/jltool/lib/python3.9/site-packages (from requests>=2.20.0->bioblend->galaxy_ie_helpers) (2021.5.30)\n",
      "Requirement already satisfied: urllib3<1.27,>=1.21.1 in /home/anupkumar/anaconda3/envs/jltool/lib/python3.9/site-packages (from requests>=2.20.0->bioblend->galaxy_ie_helpers) (1.26.6)\n",
      "Requirement already satisfied: idna<4,>=2.5 in /home/anupkumar/anaconda3/envs/jltool/lib/python3.9/site-packages (from requests>=2.20.0->bioblend->galaxy_ie_helpers) (3.1)\n",
      "Requirement already satisfied: charset-normalizer~=2.0.0 in /home/anupkumar/anaconda3/envs/jltool/lib/python3.9/site-packages (from requests>=2.20.0->bioblend->galaxy_ie_helpers) (2.0.0)\n",
      "Building wheels for collected packages: galaxy-ie-helpers\n",
      "  Building wheel for galaxy-ie-helpers (setup.py) ... \u001b[?25ldone\n",
      "\u001b[?25h  Created wheel for galaxy-ie-helpers: filename=galaxy_ie_helpers-0.2.5-py3-none-any.whl size=6946 sha256=ec6fa1b368ed7d189d9e607ac401cb5a1db9b65a5c3aaf2738549b74989bf9cc\n",
      "  Stored in directory: /home/anupkumar/.cache/pip/wheels/19/ff/93/6161d75bb369e2c4cf74b702ccc54639f568a8331fb7fcd301\n",
      "Successfully built galaxy-ie-helpers\n",
      "Installing collected packages: galaxy-ie-helpers\n",
      "Successfully installed galaxy-ie-helpers-0.2.5\n"
     ]
    }
   ],
   "source": [
    "!pip install galaxy_ie_helpers"
   ]
  },
  {
   "cell_type": "code",
   "execution_count": 5,
   "id": "24743c76-e9be-4323-9058-fe6796990b7d",
   "metadata": {},
   "outputs": [
    {
     "ename": "ConnectionError",
     "evalue": "Unexpected HTTP status code: 400: {\"err_msg\": \"parameter 'select_file': specify a dataset of the required format / build for parameter\", \"err_code\": 400008, \"err_data\": {\"select_file\": \"parameter 'select_file': specify a dataset of the required format / build for parameter\"}, \"param_errors\": {\"select_file\": {\"message\": \"parameter 'select_file': specify a dataset of the required format / build for parameter\", \"message_suffix\": \"specify a dataset of the required format / build for parameter\", \"parameter_name\": \"select_file\"}}}",
     "output_type": "error",
     "traceback": [
      "\u001b[0;31m---------------------------------------------------------------------------\u001b[0m",
      "\u001b[0;31mConnectionError\u001b[0m                           Traceback (most recent call last)",
      "\u001b[0;32m/tmp/ipykernel_28789/882064040.py\u001b[0m in \u001b[0;36m<module>\u001b[0;34m\u001b[0m\n\u001b[1;32m     43\u001b[0m     \u001b[0;32mreturn\u001b[0m \u001b[0mtool_run\u001b[0m\u001b[0;34m\u001b[0m\u001b[0;34m\u001b[0m\u001b[0m\n\u001b[1;32m     44\u001b[0m \u001b[0;34m\u001b[0m\u001b[0m\n\u001b[0;32m---> 45\u001b[0;31m \u001b[0mtool_ret_obj\u001b[0m \u001b[0;34m=\u001b[0m \u001b[0mrun_code\u001b[0m\u001b[0;34m(\u001b[0m\u001b[0mipy_file_path\u001b[0m\u001b[0;34m,\u001b[0m \u001b[0;34m\"ml_analysis_abc\"\u001b[0m\u001b[0;34m)\u001b[0m\u001b[0;34m\u001b[0m\u001b[0;34m\u001b[0m\u001b[0m\n\u001b[0m",
      "\u001b[0;32m/tmp/ipykernel_28789/882064040.py\u001b[0m in \u001b[0;36mrun_code\u001b[0;34m(script_path, new_history_name, tool_name)\u001b[0m\n\u001b[1;32m     39\u001b[0m     \u001b[0mhist_id\u001b[0m \u001b[0;34m=\u001b[0m \u001b[0mnew_history\u001b[0m\u001b[0;34m[\u001b[0m\u001b[0;34m\"id\"\u001b[0m\u001b[0;34m]\u001b[0m\u001b[0;34m\u001b[0m\u001b[0;34m\u001b[0m\u001b[0m\n\u001b[1;32m     40\u001b[0m     \u001b[0muploaded_file_path\u001b[0m \u001b[0;34m=\u001b[0m \u001b[0muploaded_dataset\u001b[0m\u001b[0;34m[\u001b[0m\u001b[0;34m\"outputs\"\u001b[0m\u001b[0;34m]\u001b[0m\u001b[0;34m[\u001b[0m\u001b[0;36m0\u001b[0m\u001b[0;34m]\u001b[0m\u001b[0;34m[\u001b[0m\u001b[0;34m\"id\"\u001b[0m\u001b[0;34m]\u001b[0m\u001b[0;34m\u001b[0m\u001b[0;34m\u001b[0m\u001b[0m\n\u001b[0;32m---> 41\u001b[0;31m     \u001b[0mtool_run\u001b[0m \u001b[0;34m=\u001b[0m \u001b[0mgi\u001b[0m\u001b[0;34m.\u001b[0m\u001b[0mtools\u001b[0m\u001b[0;34m.\u001b[0m\u001b[0mrun_tool\u001b[0m\u001b[0;34m(\u001b[0m\u001b[0mhist_id\u001b[0m\u001b[0;34m,\u001b[0m \u001b[0mtool_name\u001b[0m\u001b[0;34m,\u001b[0m \u001b[0;34m{\u001b[0m\u001b[0;34m\"inputs\"\u001b[0m\u001b[0;34m:\u001b[0m \u001b[0;34m{\u001b[0m\u001b[0;34m\"select_file\"\u001b[0m\u001b[0;34m:\u001b[0m \u001b[0muploaded_file_path\u001b[0m\u001b[0;34m}\u001b[0m\u001b[0;34m}\u001b[0m\u001b[0;34m)\u001b[0m\u001b[0;34m\u001b[0m\u001b[0;34m\u001b[0m\u001b[0m\n\u001b[0m\u001b[1;32m     42\u001b[0m     \u001b[0mprint\u001b[0m\u001b[0;34m(\u001b[0m\u001b[0mtool_run\u001b[0m\u001b[0;34m[\u001b[0m\u001b[0;34m\"jobs\"\u001b[0m\u001b[0;34m]\u001b[0m\u001b[0;34m[\u001b[0m\u001b[0;36m0\u001b[0m\u001b[0;34m]\u001b[0m\u001b[0;34m[\u001b[0m\u001b[0;34m\"state\"\u001b[0m\u001b[0;34m]\u001b[0m\u001b[0;34m)\u001b[0m\u001b[0;34m\u001b[0m\u001b[0;34m\u001b[0m\u001b[0m\n\u001b[1;32m     43\u001b[0m     \u001b[0;32mreturn\u001b[0m \u001b[0mtool_run\u001b[0m\u001b[0;34m\u001b[0m\u001b[0;34m\u001b[0m\u001b[0m\n",
      "\u001b[0;32m~/anaconda3/envs/jltool/lib/python3.9/site-packages/bioblend/galaxy/tools/__init__.py\u001b[0m in \u001b[0;36mrun_tool\u001b[0;34m(self, history_id, tool_id, tool_inputs, input_format)\u001b[0m\n\u001b[1;32m    248\u001b[0m         \u001b[0;32mexcept\u001b[0m \u001b[0mAttributeError\u001b[0m\u001b[0;34m:\u001b[0m\u001b[0;34m\u001b[0m\u001b[0;34m\u001b[0m\u001b[0m\n\u001b[1;32m    249\u001b[0m             \u001b[0mpayload\u001b[0m\u001b[0;34m[\u001b[0m\u001b[0;34m\"inputs\"\u001b[0m\u001b[0;34m]\u001b[0m \u001b[0;34m=\u001b[0m \u001b[0mtool_inputs\u001b[0m\u001b[0;34m\u001b[0m\u001b[0;34m\u001b[0m\u001b[0m\n\u001b[0;32m--> 250\u001b[0;31m         \u001b[0;32mreturn\u001b[0m \u001b[0mself\u001b[0m\u001b[0;34m.\u001b[0m\u001b[0m_post\u001b[0m\u001b[0;34m(\u001b[0m\u001b[0mpayload\u001b[0m\u001b[0;34m)\u001b[0m\u001b[0;34m\u001b[0m\u001b[0;34m\u001b[0m\u001b[0m\n\u001b[0m\u001b[1;32m    251\u001b[0m \u001b[0;34m\u001b[0m\u001b[0m\n\u001b[1;32m    252\u001b[0m     \u001b[0;32mdef\u001b[0m \u001b[0mupload_file\u001b[0m\u001b[0;34m(\u001b[0m\u001b[0mself\u001b[0m\u001b[0;34m,\u001b[0m \u001b[0mpath\u001b[0m\u001b[0;34m,\u001b[0m \u001b[0mhistory_id\u001b[0m\u001b[0;34m,\u001b[0m \u001b[0;34m**\u001b[0m\u001b[0mkeywords\u001b[0m\u001b[0;34m)\u001b[0m\u001b[0;34m:\u001b[0m\u001b[0;34m\u001b[0m\u001b[0;34m\u001b[0m\u001b[0m\n",
      "\u001b[0;32m~/anaconda3/envs/jltool/lib/python3.9/site-packages/bioblend/galaxy/client.py\u001b[0m in \u001b[0;36m_post\u001b[0;34m(self, payload, id, deleted, contents, url, files_attached)\u001b[0m\n\u001b[1;32m    174\u001b[0m         \u001b[0;32mif\u001b[0m \u001b[0;32mnot\u001b[0m \u001b[0murl\u001b[0m\u001b[0;34m:\u001b[0m\u001b[0;34m\u001b[0m\u001b[0;34m\u001b[0m\u001b[0m\n\u001b[1;32m    175\u001b[0m             \u001b[0murl\u001b[0m \u001b[0;34m=\u001b[0m \u001b[0mself\u001b[0m\u001b[0;34m.\u001b[0m\u001b[0m_make_url\u001b[0m\u001b[0;34m(\u001b[0m\u001b[0mmodule_id\u001b[0m\u001b[0;34m=\u001b[0m\u001b[0mid\u001b[0m\u001b[0;34m,\u001b[0m \u001b[0mdeleted\u001b[0m\u001b[0;34m=\u001b[0m\u001b[0mdeleted\u001b[0m\u001b[0;34m,\u001b[0m \u001b[0mcontents\u001b[0m\u001b[0;34m=\u001b[0m\u001b[0mcontents\u001b[0m\u001b[0;34m)\u001b[0m\u001b[0;34m\u001b[0m\u001b[0;34m\u001b[0m\u001b[0m\n\u001b[0;32m--> 176\u001b[0;31m         return self.gi.make_post_request(url, payload=payload,\n\u001b[0m\u001b[1;32m    177\u001b[0m                                          files_attached=files_attached)\n\u001b[1;32m    178\u001b[0m \u001b[0;34m\u001b[0m\u001b[0m\n",
      "\u001b[0;32m~/anaconda3/envs/jltool/lib/python3.9/site-packages/bioblend/galaxyclient.py\u001b[0m in \u001b[0;36mmake_post_request\u001b[0;34m(self, url, payload, params, files_attached)\u001b[0m\n\u001b[1;32m    151\u001b[0m                 )\n\u001b[1;32m    152\u001b[0m         \u001b[0;31m# @see self.body for HTTP response body\u001b[0m\u001b[0;34m\u001b[0m\u001b[0;34m\u001b[0m\u001b[0;34m\u001b[0m\u001b[0m\n\u001b[0;32m--> 153\u001b[0;31m         raise ConnectionError(\n\u001b[0m\u001b[1;32m    154\u001b[0m             \u001b[0;34mf\"Unexpected HTTP status code: {r.status_code}\"\u001b[0m\u001b[0;34m,\u001b[0m\u001b[0;34m\u001b[0m\u001b[0;34m\u001b[0m\u001b[0m\n\u001b[1;32m    155\u001b[0m             \u001b[0mbody\u001b[0m\u001b[0;34m=\u001b[0m\u001b[0mr\u001b[0m\u001b[0;34m.\u001b[0m\u001b[0mtext\u001b[0m\u001b[0;34m,\u001b[0m\u001b[0;34m\u001b[0m\u001b[0;34m\u001b[0m\u001b[0m\n",
      "\u001b[0;31mConnectionError\u001b[0m: Unexpected HTTP status code: 400: {\"err_msg\": \"parameter 'select_file': specify a dataset of the required format / build for parameter\", \"err_code\": 400008, \"err_data\": {\"select_file\": \"parameter 'select_file': specify a dataset of the required format / build for parameter\"}, \"param_errors\": {\"select_file\": {\"message\": \"parameter 'select_file': specify a dataset of the required format / build for parameter\", \"message_suffix\": \"specify a dataset of the required format / build for parameter\", \"parameter_name\": \"select_file\"}}}"
     ]
    }
   ],
   "source": [
    "import bioblend\n",
    "from bioblend.galaxy import GalaxyInstance\n",
    "from bioblend.galaxy import histories\n",
    "from time import sleep\n",
    "import galaxy_ie_helpers\n",
    "\n",
    "ipy_file_path = \"scikit-learn.ipynb\"\n",
    "\n",
    "def run_code(script_path, new_history_name=\"ml_analysis\", tool_name=\"run_jupyter_job\"):\n",
    "    \n",
    "    # to be used on usegalaxy.eu\n",
    "    # conn = galaxy_ie_helpers.get_galaxy_connection()\n",
    "    # gi = conn.gi\n",
    "    # new_history = gi.histories.create_history(new_history_name)\n",
    "    \n",
    "    # to be used locally\n",
    "    #server = 'http://127.0.0.1:9090/'\n",
    "    server = \"http://localhost:8080/\"\n",
    "    key = '7491db238c6bedf1bfadd68507c1802d'\n",
    "    gi = GalaxyInstance(server, key=key)\n",
    "    history = histories.HistoryClient(gi)\n",
    "    new_history = history.create_history(new_history_name)\n",
    "    \n",
    "    # get script\n",
    "    from nbformat import read, NO_CONVERT\n",
    "    with open(ipy_file_path) as fp:\n",
    "        notebook = read(fp, NO_CONVERT)\n",
    "    cells = notebook['cells']\n",
    "    code_cells = [c for c in cells if c['cell_type'] == 'code']\n",
    "    notebook_script = \"\"\n",
    "    for cell in code_cells:\n",
    "        notebook_script += cell.source + \"\\n\\n\"\n",
    "    target_file_name = \"target-file.py\"\n",
    "    with open(target_file_name, \"w\") as f_obj:\n",
    "        f_obj.write(notebook_script)\n",
    "    # upload script\n",
    "    uploaded_dataset = gi.tools.upload_file(target_file_name, new_history[\"id\"])\n",
    "    sleep(20)\n",
    "    hist_id = new_history[\"id\"]\n",
    "    uploaded_file_path = uploaded_dataset[\"outputs\"][0][\"id\"]\n",
    "    tool_run = gi.tools.run_tool(hist_id, tool_name, {\"inputs\": {\"select_file\": uploaded_file_path}})\n",
    "    print(tool_run[\"jobs\"][0][\"state\"])\n",
    "    return tool_run\n",
    "\n",
    "tool_ret_obj = run_code(ipy_file_path, \"ml_analysis_abc\")"
   ]
  },
  {
   "cell_type": "code",
   "execution_count": 3,
   "id": "e5b2cf46-d9f9-4a83-ac4b-443cd5b30428",
   "metadata": {},
   "outputs": [
    {
     "ename": "NameError",
     "evalue": "name 'tf' is not defined",
     "output_type": "error",
     "traceback": [
      "\u001b[0;31m---------------------------------------------------------------------------\u001b[0m",
      "\u001b[0;31mNameError\u001b[0m                                 Traceback (most recent call last)",
      "\u001b[0;32m/tmp/ipykernel_17039/1726857261.py\u001b[0m in \u001b[0;36m<module>\u001b[0;34m\u001b[0m\n\u001b[1;32m     28\u001b[0m         \u001b[0;32mreturn\u001b[0m \u001b[0mglobal_vars\u001b[0m\u001b[0;34m,\u001b[0m \u001b[0mlocals_vars\u001b[0m\u001b[0;34m\u001b[0m\u001b[0;34m\u001b[0m\u001b[0m\n\u001b[1;32m     29\u001b[0m \u001b[0;34m\u001b[0m\u001b[0m\n\u001b[0;32m---> 30\u001b[0;31m \u001b[0mg_v\u001b[0m\u001b[0;34m,\u001b[0m \u001b[0ml_v\u001b[0m \u001b[0;34m=\u001b[0m \u001b[0mget_e\u001b[0m\u001b[0;34m(\u001b[0m\u001b[0;34m)\u001b[0m\u001b[0;34m\u001b[0m\u001b[0;34m\u001b[0m\u001b[0m\n\u001b[0m",
      "\u001b[0;32m/tmp/ipykernel_17039/1726857261.py\u001b[0m in \u001b[0;36mget_e\u001b[0;34m()\u001b[0m\n\u001b[1;32m     25\u001b[0m \u001b[0;32mdef\u001b[0m \u001b[0mget_e\u001b[0m\u001b[0;34m(\u001b[0m\u001b[0;34m)\u001b[0m\u001b[0;34m:\u001b[0m\u001b[0;34m\u001b[0m\u001b[0;34m\u001b[0m\u001b[0m\n\u001b[1;32m     26\u001b[0m     \u001b[0;32mwith\u001b[0m \u001b[0mopen\u001b[0m\u001b[0;34m(\u001b[0m\u001b[0mp_loaded_file\u001b[0m\u001b[0;34m,\u001b[0m \u001b[0;34m\"r\"\u001b[0m\u001b[0;34m)\u001b[0m \u001b[0;32mas\u001b[0m \u001b[0mf\u001b[0m\u001b[0;34m:\u001b[0m\u001b[0;34m\u001b[0m\u001b[0;34m\u001b[0m\u001b[0m\n\u001b[0;32m---> 27\u001b[0;31m         \u001b[0mexec\u001b[0m\u001b[0;34m(\u001b[0m\u001b[0mf\u001b[0m\u001b[0;34m.\u001b[0m\u001b[0mread\u001b[0m\u001b[0;34m(\u001b[0m\u001b[0;34m)\u001b[0m\u001b[0;34m,\u001b[0m \u001b[0mglobal_vars\u001b[0m\u001b[0;34m,\u001b[0m \u001b[0mlocals_vars\u001b[0m\u001b[0;34m)\u001b[0m\u001b[0;34m\u001b[0m\u001b[0;34m\u001b[0m\u001b[0m\n\u001b[0m\u001b[1;32m     28\u001b[0m         \u001b[0;32mreturn\u001b[0m \u001b[0mglobal_vars\u001b[0m\u001b[0;34m,\u001b[0m \u001b[0mlocals_vars\u001b[0m\u001b[0;34m\u001b[0m\u001b[0;34m\u001b[0m\u001b[0m\n\u001b[1;32m     29\u001b[0m \u001b[0;34m\u001b[0m\u001b[0m\n",
      "\u001b[0;32m<string>\u001b[0m in \u001b[0;36m<module>\u001b[0;34m\u001b[0m\n",
      "\u001b[0;32m<string>\u001b[0m in \u001b[0;36mrev_value\u001b[0;34m()\u001b[0m\n",
      "\u001b[0;31mNameError\u001b[0m: name 'tf' is not defined"
     ]
    }
   ],
   "source": [
    "import yaml\n",
    "import tensorflow as tf\n",
    "from nbformat import read, NO_CONVERT\n",
    "\n",
    "script_path = \"tf_model.ipynb\"\n",
    "\n",
    "with open(script_path) as fp:\n",
    "    notebook = read(fp, NO_CONVERT)\n",
    "cells = notebook['cells']\n",
    "code_cells = [c for c in cells if c['cell_type'] == 'code']\n",
    "notebook_script = \"\"\"\"\"\"\n",
    "for cell in code_cells:\n",
    "    notebook_script += str(cell.source)\n",
    "    notebook_script += \"\\n\\n\\n\"\n",
    "\n",
    "target_file_name = \"target-file.py\"\n",
    "with open(target_file_name, \"w\") as f_obj:\n",
    "    f_obj.write(notebook_script)\n",
    "\n",
    "p_loaded_file = target_file_name\n",
    "global_vars = dict()\n",
    "locals_vars = dict()\n",
    "input_file = yaml.safe_load(p_loaded_file)\n",
    "\n",
    "def get_e():\n",
    "    with open(p_loaded_file, \"r\") as f:\n",
    "        exec(f.read(), global_vars, locals_vars)\n",
    "        return global_vars, locals_vars\n",
    "    \n",
    "g_v, l_v = get_e()"
   ]
  },
  {
   "cell_type": "code",
   "execution_count": null,
   "id": "1bd2ea5c-ccd3-4bca-a199-32e7eec7008a",
   "metadata": {},
   "outputs": [],
   "source": []
  },
  {
   "cell_type": "code",
   "execution_count": null,
   "id": "39d638c1-589f-4566-b66e-44e73e094855",
   "metadata": {},
   "outputs": [],
   "source": []
  }
 ],
 "metadata": {
  "kernelspec": {
   "display_name": "Python 3 (ipykernel)",
   "language": "python",
   "name": "python3"
  },
  "language_info": {
   "codemirror_mode": {
    "name": "ipython",
    "version": 3
   },
   "file_extension": ".py",
   "mimetype": "text/x-python",
   "name": "python",
   "nbconvert_exporter": "python",
   "pygments_lexer": "ipython3",
   "version": "3.9.6"
  }
 },
 "nbformat": 4,
 "nbformat_minor": 5
}
