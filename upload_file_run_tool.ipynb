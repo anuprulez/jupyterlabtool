{
 "cells": [
  {
   "cell_type": "code",
   "execution_count": 17,
   "id": "5986f665-eb27-4d1f-9c16-39ffdbfea63d",
   "metadata": {},
   "outputs": [
    {
     "name": "stdout",
     "output_type": "stream",
     "text": [
      "new\n"
     ]
    }
   ],
   "source": [
    "import os\n",
    "import random\n",
    "from time import sleep\n",
    "import bioblend\n",
    "from bioblend.galaxy import GalaxyInstance\n",
    "from bioblend.galaxy import histories\n",
    "\n",
    "\n",
    "server = 'http://127.0.0.1:9090/'\n",
    "key = '7a9d91ab284dae8207afceab171c76d4'\n",
    "ipy_file_path = \"scikit-learn.ipynb\"\n",
    "\n",
    "\n",
    "def run_dynamic_code(server, key, ipy_file_path, tool_name=\"run_jupyter_job\"):\n",
    "    # create connection\n",
    "    gi = GalaxyInstance(server, key=key)\n",
    "    history = histories.HistoryClient(gi)\n",
    "    new_history = history.create_history(str(random.randint(1, 10000000)))\n",
    "    # get script\n",
    "    from nbformat import read, NO_CONVERT\n",
    "    with open(ipy_file_path) as fp:\n",
    "        notebook = read(fp, NO_CONVERT)\n",
    "    cells = notebook['cells']\n",
    "    code_cells = [c for c in cells if c['cell_type'] == 'code']\n",
    "    notebook_script = \"\"\n",
    "    for cell in code_cells:\n",
    "        notebook_script += cell.source + \"\\n\\n\"\n",
    "    target_file_name = \"target-file.py\"\n",
    "    with open(target_file_name, \"w\") as f_obj:\n",
    "        f_obj.write(notebook_script)\n",
    "    # upload script\n",
    "    uploaded_dataset = gi.tools.upload_file(target_file_name, new_history[\"id\"])\n",
    "    sleep(20)\n",
    "    hist_id = new_history[\"id\"]\n",
    "    uploaded_file_path = uploaded_dataset[\"outputs\"][0][\"id\"]\n",
    "    tool_run = gi.tools.run_tool(hist_id, tool_name, {\"inputs\": {\"select_file\": uploaded_file_path}})\n",
    "    print(tool_run[\"jobs\"][0][\"state\"])\n",
    "\n",
    "run_dynamic_code(server, key, ipy_file_path)"
   ]
  },
  {
   "cell_type": "code",
   "execution_count": null,
   "id": "8fdd4813-9aff-4be3-86f1-a4efe83d74d4",
   "metadata": {},
   "outputs": [],
   "source": []
  },
  {
   "cell_type": "code",
   "execution_count": null,
   "id": "7ba03914-f218-423e-adb6-9d98f579a003",
   "metadata": {},
   "outputs": [],
   "source": []
  }
 ],
 "metadata": {
  "kernelspec": {
   "display_name": "Python 3 (ipykernel)",
   "language": "python",
   "name": "python3"
  },
  "language_info": {
   "codemirror_mode": {
    "name": "ipython",
    "version": 3
   },
   "file_extension": ".py",
   "mimetype": "text/x-python",
   "name": "python",
   "nbconvert_exporter": "python",
   "pygments_lexer": "ipython3",
   "version": "3.9.6"
  }
 },
 "nbformat": 4,
 "nbformat_minor": 5
}
