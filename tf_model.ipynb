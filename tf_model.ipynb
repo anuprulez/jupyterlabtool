{
 "cells": [
  {
   "cell_type": "code",
   "execution_count": null,
   "id": "928a973b-d17f-46d5-ac1e-99a29c0e3750",
   "metadata": {},
   "outputs": [],
   "source": [
    "import numpy as np\n",
    "import tensorflow as tf\n",
    "\n",
    "\n",
    "def train_step(images, labels, mnist_model, optimizer, loss_object):\n",
    "    loss_history = []\n",
    "    with tf.GradientTape() as tape:\n",
    "        logits = mnist_model(images, training=True)\n",
    "        tf.debugging.assert_equal(logits.shape, (32, 10))\n",
    "        loss_value = loss_object(labels, logits)\n",
    "    loss_history.append(loss_value.numpy().mean())\n",
    "    grads = tape.gradient(loss_value, mnist_model.trainable_variables)\n",
    "    optimizer.apply_gradients(zip(grads, mnist_model.trainable_variables))\n",
    "    return np.mean(loss_history), mnist_model"
   ]
  },
  {
   "cell_type": "code",
   "execution_count": 1,
   "id": "0c602d48-a807-4880-bc61-3d7140ef4632",
   "metadata": {},
   "outputs": [],
   "source": [
    "def train(epochs, dataset, train_step):\n",
    "    tot_loss = []\n",
    "    weights = None\n",
    "\n",
    "    mnist_model = tf.keras.Sequential([\n",
    "        tf.keras.layers.Conv2D(16,[3,3], activation='relu',\n",
    "                         input_shape=(None, None, 1)),\n",
    "        tf.keras.layers.Conv2D(16,[3,3], activation='relu'),\n",
    "        tf.keras.layers.GlobalAveragePooling2D(),\n",
    "        tf.keras.layers.Dense(10)\n",
    "    ])\n",
    "\n",
    "    optimizer = tf.keras.optimizers.Adam()\n",
    "    loss_object = tf.keras.losses.SparseCategoricalCrossentropy(from_logits=True)\n",
    "\n",
    "    for epoch in range(epochs):\n",
    "        for (batch, (images, labels)) in enumerate(dataset):\n",
    "            b_loss, mnist_model = train_step(images, labels, mnist_model, optimizer, loss_object)\n",
    "            tot_loss.append(b_loss)\n",
    "    return mnist_model"
   ]
  },
  {
   "cell_type": "code",
   "execution_count": null,
   "id": "4eb23c51-38e6-49df-8d4e-6bf21813f4d2",
   "metadata": {},
   "outputs": [],
   "source": [
    "def rev_value():\n",
    "    (mnist_images, mnist_labels), _ = tf.keras.datasets.mnist.load_data()\n",
    "    dataset = tf.data.Dataset.from_tensor_slices((tf.cast(mnist_images[...,tf.newaxis]/255, tf.float32), tf.cast(mnist_labels,tf.int64)))\n",
    "    dataset = dataset.shuffle(1000).batch(32)\n",
    "    return train(1, dataset, train_step)"
   ]
  },
  {
   "cell_type": "code",
   "execution_count": null,
   "id": "6c83d6ed-77a9-40aa-ae1b-27f9e014f338",
   "metadata": {},
   "outputs": [],
   "source": [
    "model = rev_value()"
   ]
  }
 ],
 "metadata": {
  "kernelspec": {
   "display_name": "Python 3 (ipykernel)",
   "language": "python",
   "name": "python3"
  },
  "language_info": {
   "codemirror_mode": {
    "name": "ipython",
    "version": 3
   },
   "file_extension": ".py",
   "mimetype": "text/x-python",
   "name": "python",
   "nbconvert_exporter": "python",
   "pygments_lexer": "ipython3",
   "version": "3.9.6"
  }
 },
 "nbformat": 4,
 "nbformat_minor": 5
}
