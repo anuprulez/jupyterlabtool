{
 "cells": [
  {
   "cell_type": "code",
   "execution_count": 46,
   "id": "dde40cf9-e086-45dc-956c-803ea291bc0b",
   "metadata": {},
   "outputs": [],
   "source": [
    "import tensorflow as tf\n",
    "import numpy as np"
   ]
  },
  {
   "cell_type": "code",
   "execution_count": 47,
   "id": "3bec09d7-f035-4406-afbf-ef38ba70b3b6",
   "metadata": {},
   "outputs": [],
   "source": [
    "(mnist_images, mnist_labels), _ = tf.keras.datasets.mnist.load_data()\n",
    "mnist_images, mnist_labels = mnist_images[:128], mnist_labels[:128]\n",
    "dataset = tf.data.Dataset.from_tensor_slices((tf.cast(mnist_images[...,tf.newaxis]/255, tf.float32), tf.cast(mnist_labels,tf.int64)))\n",
    "dataset = dataset.shuffle(1000).batch(32)"
   ]
  },
  {
   "cell_type": "code",
   "execution_count": 48,
   "id": "0189f318-6fc6-44e0-887d-c65198b4d449",
   "metadata": {},
   "outputs": [],
   "source": [
    "tot_loss = []\n",
    "epochs = 1\n",
    "\n",
    "mnist_model = tf.keras.Sequential([\n",
    "    tf.keras.layers.Conv2D(16,[3,3], activation='relu'),\n",
    "    tf.keras.layers.Conv2D(16,[3,3], activation='relu'),\n",
    "    tf.keras.layers.GlobalAveragePooling2D(),\n",
    "    tf.keras.layers.Dense(10)\n",
    "])\n",
    "\n",
    "optimizer = tf.keras.optimizers.Adam()\n",
    "loss_object = tf.keras.losses.SparseCategoricalCrossentropy(from_logits=True)\n",
    "\n",
    "for epoch in range(epochs):\n",
    "    loss_history = []\n",
    "    for (batch, (images, labels)) in enumerate(dataset):\n",
    "        with tf.GradientTape() as tape:\n",
    "            logits = mnist_model(images, training=True)\n",
    "            loss_value = loss_object(labels, logits)\n",
    "        loss_history.append(loss_value.numpy().mean())\n",
    "        grads = tape.gradient(loss_value, mnist_model.trainable_variables)\n",
    "        optimizer.apply_gradients(zip(grads, mnist_model.trainable_variables))\n",
    "    tot_loss.append(np.mean(loss_history))"
   ]
  },
  {
   "cell_type": "code",
   "execution_count": 49,
   "id": "bb4ca59e-77e7-485e-9655-b3b31b1c5c96",
   "metadata": {},
   "outputs": [
    {
     "data": {
      "text/plain": [
       "[2.3050556]"
      ]
     },
     "execution_count": 49,
     "metadata": {},
     "output_type": "execute_result"
    }
   ],
   "source": [
    "tot_loss"
   ]
  },
  {
   "cell_type": "code",
   "execution_count": null,
   "id": "54db875b-9c00-4358-869a-32681eba6e19",
   "metadata": {},
   "outputs": [],
   "source": []
  },
  {
   "cell_type": "code",
   "execution_count": null,
   "id": "1d659dbc-83db-4cde-83ff-a08f7ad92e63",
   "metadata": {},
   "outputs": [],
   "source": []
  },
  {
   "cell_type": "code",
   "execution_count": null,
   "id": "fc504df6-6d63-4b01-be63-c6824629c299",
   "metadata": {},
   "outputs": [],
   "source": []
  }
 ],
 "metadata": {
  "kernelspec": {
   "display_name": "Python 3 (ipykernel)",
   "language": "python",
   "name": "python3"
  },
  "language_info": {
   "codemirror_mode": {
    "name": "ipython",
    "version": 3
   },
   "file_extension": ".py",
   "mimetype": "text/x-python",
   "name": "python",
   "nbconvert_exporter": "python",
   "pygments_lexer": "ipython3",
   "version": "3.9.6"
  }
 },
 "nbformat": 4,
 "nbformat_minor": 5
}
